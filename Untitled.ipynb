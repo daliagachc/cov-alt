{
 "cells": [
  {
   "cell_type": "code",
   "execution_count": 1,
   "id": "0e5bd8a7-a26a-4920-8c82-656f6da6e6a5",
   "metadata": {},
   "outputs": [],
   "source": [
    "# load and autoreload\n",
    "from IPython import get_ipython\n",
    "# noinspection PyBroadException\n",
    "try:\n",
    "    _magic = get_ipython().magic\n",
    "    _magic('load_ext autoreload')\n",
    "    _magic('autoreload 2')\n",
    "except:\n",
    "    pass\n",
    "    \n",
    "\n",
    "import os \n",
    "import glob\n",
    "import sys\n",
    "import pprint\n",
    "import datetime as dt\n",
    "import pandas as pd \n",
    "import numpy as np\n",
    "import matplotlib as mpl\n",
    "import matplotlib.colors\n",
    "import matplotlib.pyplot as plt \n",
    "import xarray as xr \n",
    "import seaborn as sns\n",
    "import cartopy as crt\n",
    "\n",
    "plt.rcParams['axes.facecolor']='white'\n",
    "plt.rcParams['savefig.facecolor']='white'"
   ]
  },
  {
   "cell_type": "code",
   "execution_count": 2,
   "id": "a260e4c6-9d9c-4959-b3b5-89a84d99acc1",
   "metadata": {},
   "outputs": [],
   "source": [
    "df = pd.read_excel('./data/ortiz-prado_2021.xlsx')"
   ]
  },
  {
   "cell_type": "code",
   "execution_count": 31,
   "id": "07a3e06b-1d23-4997-b07b-ca26c2a78d3e",
   "metadata": {},
   "outputs": [],
   "source": [
    "R,P,C,CP,TD,ED,EX,RR = ['Range', 'Province', 'Canton', 'Canton population', 'Total deaths',\n",
    "       'Expected deaths', 'Excess deaths', 'Rate/100,000']\n",
    "A = 'Elevation'\n",
    "RA = 'ratio'"
   ]
  },
  {
   "cell_type": "code",
   "execution_count": 15,
   "id": "aecd0614-cfb1-4862-8aac-4b01be44a634",
   "metadata": {},
   "outputs": [
    {
     "data": {
      "text/plain": [
       "{0: 'Near sea level',\n",
       " 10: 'Low altitude',\n",
       " 20: 'Moderate altitude',\n",
       " 30: 'High altitude'}"
      ]
     },
     "execution_count": 15,
     "metadata": {},
     "output_type": "execute_result"
    }
   ],
   "source": [
    "df[R].drop_duplicates().to_dict()"
   ]
  },
  {
   "cell_type": "code",
   "execution_count": 16,
   "id": "c3f88f9e-a837-41d1-883a-8d2ed926859b",
   "metadata": {},
   "outputs": [],
   "source": [
    "alt_dic={'Near sea level':250,\n",
    " 'Low altitude':(2000+500)/2,\n",
    " 'Moderate altitude':2500,\n",
    " 'High altitude':(3000+5500)/2}"
   ]
  },
  {
   "cell_type": "code",
   "execution_count": 29,
   "id": "13f57bc4-93d6-4438-96ab-d08d10763a82",
   "metadata": {},
   "outputs": [],
   "source": [
    "df[A] = df[R].replace(alt_dic)/1000"
   ]
  },
  {
   "cell_type": "code",
   "execution_count": 32,
   "id": "3655478f-ea9d-4835-a66e-8cb423bb9c95",
   "metadata": {},
   "outputs": [],
   "source": [
    "df[RA] = df[TD]/df[ED]"
   ]
  },
  {
   "cell_type": "code",
   "execution_count": 33,
   "id": "e8ae47de-1e47-4a44-b0aa-b77849a782cb",
   "metadata": {},
   "outputs": [],
   "source": [
    "df = df.sort_values(CP)"
   ]
  },
  {
   "cell_type": "code",
   "execution_count": 34,
   "id": "b71a9f16-4eff-4cee-bffc-cc1932c23138",
   "metadata": {},
   "outputs": [
    {
     "data": {
      "text/plain": [
       "<matplotlib.collections.PathCollection at 0x155636ca0>"
      ]
     },
     "execution_count": 34,
     "metadata": {},
     "output_type": "execute_result"
    },
    {
     "data": {
      "image/png": "[encoded data removed]",
      "text/plain": [
       "<Figure size 432x288 with 1 Axes>"
      ]
     },
     "metadata": {
      "needs_background": "light"
     },
     "output_type": "display_data"
    }
   ],
   "source": []
  },
  {
   "cell_type": "code",
   "execution_count": 82,
   "id": "a223f519-5400-406f-abf8-2dcb11f59921",
   "metadata": {},
   "outputs": [],
   "source": [
    "df1 = df.sort_values(A)\n",
    "_x = df[A].values\n",
    "_y = df[RA].values\n",
    "_X = df[[A]]\n",
    "import statsmodels.api as sm\n",
    "import numpy as np\n",
    "\n",
    "# include constant in ols models, which is not done by default\n",
    "_x = sm.add_constant(_x)\n",
    "\n",
    "model = sm.OLS(_y,_x)\n",
    "results = model.fit()\n",
    "\n",
    "s=results.summary2()\n",
    "c1,x1 = s.tables[1]['[0.025']\n",
    "c2,x2 = s.tables[1]['0.975]']"
   ]
  },
  {
   "cell_type": "code",
   "execution_count": 83,
   "id": "4fa57abd-1d8a-4845-9b9a-2445a7f3f287",
   "metadata": {},
   "outputs": [
    {
     "data": {
      "text/html": [
       "<table class=\"simpletable\">\n",
       "<tr>\n",
       "        <td>Model:</td>               <td>OLS</td>         <td>Adj. R-squared:</td>     <td>0.138</td> \n",
       "</tr>\n",
       "<tr>\n",
       "  <td>Dependent Variable:</td>         <td>y</td>               <td>AIC:</td>          <td>22.6653</td>\n",
       "</tr>\n",
       "<tr>\n",
       "         <td>Date:</td>        <td>2021-12-30 00:07</td>        <td>BIC:</td>          <td>26.0430</td>\n",
       "</tr>\n",
       "<tr>\n",
       "   <td>No. Observations:</td>         <td>40</td>          <td>Log-Likelihood:</td>    <td>-9.3326</td>\n",
       "</tr>\n",
       "<tr>\n",
       "       <td>Df Model:</td>              <td>1</td>           <td>F-statistic:</td>       <td>7.260</td> \n",
       "</tr>\n",
       "<tr>\n",
       "     <td>Df Residuals:</td>           <td>38</td>        <td>Prob (F-statistic):</td>  <td>0.0104</td> \n",
       "</tr>\n",
       "<tr>\n",
       "      <td>R-squared:</td>            <td>0.160</td>            <td>Scale:</td>        <td>0.098278</td>\n",
       "</tr>\n",
       "</table>\n",
       "<table class=\"simpletable\">\n",
       "<tr>\n",
       "    <td></td>     <th>Coef.</th>  <th>Std.Err.</th>    <th>t</th>     <th>P>|t|</th> <th>[0.025</th>  <th>0.975]</th> \n",
       "</tr>\n",
       "<tr>\n",
       "  <th>const</th> <td>1.8395</td>   <td>0.0845</td>  <td>21.7657</td> <td>0.0000</td> <td>1.6684</td>  <td>2.0106</td> \n",
       "</tr>\n",
       "<tr>\n",
       "  <th>x1</th>    <td>-0.0894</td>  <td>0.0332</td>  <td>-2.6944</td> <td>0.0104</td> <td>-0.1566</td> <td>-0.0222</td>\n",
       "</tr>\n",
       "</table>\n",
       "<table class=\"simpletable\">\n",
       "<tr>\n",
       "     <td>Omnibus:</td>    <td>13.615</td>  <td>Durbin-Watson:</td>    <td>2.238</td>\n",
       "</tr>\n",
       "<tr>\n",
       "  <td>Prob(Omnibus):</td>  <td>0.001</td> <td>Jarque-Bera (JB):</td> <td>16.655</td>\n",
       "</tr>\n",
       "<tr>\n",
       "       <td>Skew:</td>      <td>1.044</td>     <td>Prob(JB):</td>      <td>0.000</td>\n",
       "</tr>\n",
       "<tr>\n",
       "     <td>Kurtosis:</td>    <td>5.374</td>  <td>Condition No.:</td>      <td>5</td>  \n",
       "</tr>\n",
       "</table>"
      ],
      "text/plain": [
       "<class 'statsmodels.iolib.summary2.Summary'>\n",
       "\"\"\"\n",
       "                 Results: Ordinary least squares\n",
       "=================================================================\n",
       "Model:              OLS              Adj. R-squared:     0.138   \n",
       "Dependent Variable: y                AIC:                22.6653 \n",
       "Date:               2021-12-30 00:07 BIC:                26.0430 \n",
       "No. Observations:   40               Log-Likelihood:     -9.3326 \n",
       "Df Model:           1                F-statistic:        7.260   \n",
       "Df Residuals:       38               Prob (F-statistic): 0.0104  \n",
       "R-squared:          0.160            Scale:              0.098278\n",
       "-------------------------------------------------------------------\n",
       "           Coef.    Std.Err.      t      P>|t|     [0.025    0.975]\n",
       "-------------------------------------------------------------------\n",
       "const      1.8395     0.0845   21.7657   0.0000    1.6684    2.0106\n",
       "x1        -0.0894     0.0332   -2.6944   0.0104   -0.1566   -0.0222\n",
       "-----------------------------------------------------------------\n",
       "Omnibus:              13.615       Durbin-Watson:          2.238 \n",
       "Prob(Omnibus):        0.001        Jarque-Bera (JB):       16.655\n",
       "Skew:                 1.044        Prob(JB):               0.000 \n",
       "Kurtosis:             5.374        Condition No.:          5     \n",
       "=================================================================\n",
       "\n",
       "\"\"\""
      ]
     },
     "execution_count": 83,
     "metadata": {},
     "output_type": "execute_result"
    }
   ],
   "source": [
    "s"
   ]
  },
  {
   "cell_type": "code",
   "execution_count": 84,
   "id": "ad9956fb-ca69-42ec-9b80-8c038513882e",
   "metadata": {},
   "outputs": [],
   "source": [
    "from sklearn.linear_model import LinearRegression\n",
    "\n",
    "lr = LinearRegression()\n",
    "lr.fit(_X,_y)\n",
    "XX = _X.drop_duplicates()\n",
    "yy = lr.predict(XX)"
   ]
  },
  {
   "cell_type": "code",
   "execution_count": 85,
   "id": "500dcae3-ca84-4ae1-b431-b39a5bad7968",
   "metadata": {},
   "outputs": [
    {
     "data": {
      "text/plain": [
       "0.08965934615861336"
      ]
     },
     "execution_count": 85,
     "metadata": {},
     "output_type": "execute_result"
    }
   ],
   "source": [
    "coef"
   ]
  },
  {
   "cell_type": "code",
   "execution_count": 86,
   "id": "b43c2928-9fd1-4d96-8693-05f8e97de1af",
   "metadata": {},
   "outputs": [
    {
     "data": {
      "text/plain": [
       "array([1.49206349, 1.38983051, 1.671875  , 1.27522936, 1.62711864,\n",
       "       1.58064516, 1.12195122, 1.45      , 1.60273973, 1.54205607,\n",
       "       1.32947977, 1.82122905, 1.48591549, 1.3655914 , 1.54216867,\n",
       "       1.48039216, 1.73660714, 1.34339623, 1.5141129 , 1.64619165,\n",
       "       1.54044118, 1.96885813, 2.24184261, 1.41797961, 2.59695291,\n",
       "       1.85866409, 1.7434555 , 1.88329764, 1.53577818, 1.50501002,\n",
       "       1.8622101 , 1.27285714, 2.00982318, 2.85501066, 1.70466321,\n",
       "       1.69985287, 1.595592  , 1.37906372, 1.91256042, 1.60095589])"
      ]
     },
     "execution_count": 86,
     "metadata": {},
     "output_type": "execute_result"
    }
   ],
   "source": [
    "_y"
   ]
  },
  {
   "cell_type": "code",
   "execution_count": 87,
   "id": "b7c9c6ba-9a99-49f8-915f-60d3009235f4",
   "metadata": {},
   "outputs": [],
   "source": [
    "coef= lr.coef_[0]"
   ]
  },
  {
   "cell_type": "code",
   "execution_count": 88,
   "id": "48f8c7c3-0cc7-49bc-a741-74e3bb1c95fb",
   "metadata": {},
   "outputs": [
    {
     "data": {
      "text/plain": [
       "<matplotlib.legend.Legend at 0x1691eea60>"
      ]
     },
     "execution_count": 88,
     "metadata": {},
     "output_type": "execute_result"
    },
    {
     "data": {
      "image/png": "[encoded data removed]",
      "text/plain": [
       "<Figure size 432x288 with 1 Axes>"
      ]
     },
     "metadata": {
      "needs_background": "light"
     },
     "output_type": "display_data"
    }
   ],
   "source": [
    "fy = f'  $y = {coef:.2f} ({x1:.2f},{x2:.2f}) x + {lr.intercept_:.2f}({c1:.2f},{c2:.2f})$'\n",
    "\n",
    "\n",
    "f,ax = plt.subplots()\n",
    "ax.scatter(df[A],df[RA],s=df[CP]/20000,\n",
    "          edgecolor='k')\n",
    "sns.regplot(x=_x[:,1],y=_y,scatter=False,line_kws={'lw':1,'color':'k','ls':':'},ax=ax)\n",
    "\n",
    "ax.plot(XX.values[:,0],yy,ls=':',c='.5',lw=1,label=fy)\n",
    "ax.legend()"
   ]
  },
  {
   "cell_type": "code",
   "execution_count": 89,
   "id": "00cab386-2747-42a6-b1da-baf43d2eb275",
   "metadata": {},
   "outputs": [
    {
     "data": {
      "text/html": [
       "<table class=\"simpletable\">\n",
       "<tr>\n",
       "        <td>Model:</td>               <td>OLS</td>         <td>Adj. R-squared:</td>     <td>0.138</td> \n",
       "</tr>\n",
       "<tr>\n",
       "  <td>Dependent Variable:</td>         <td>y</td>               <td>AIC:</td>          <td>22.6653</td>\n",
       "</tr>\n",
       "<tr>\n",
       "         <td>Date:</td>        <td>2021-12-30 00:07</td>        <td>BIC:</td>          <td>26.0430</td>\n",
       "</tr>\n",
       "<tr>\n",
       "   <td>No. Observations:</td>         <td>40</td>          <td>Log-Likelihood:</td>    <td>-9.3326</td>\n",
       "</tr>\n",
       "<tr>\n",
       "       <td>Df Model:</td>              <td>1</td>           <td>F-statistic:</td>       <td>7.260</td> \n",
       "</tr>\n",
       "<tr>\n",
       "     <td>Df Residuals:</td>           <td>38</td>        <td>Prob (F-statistic):</td>  <td>0.0104</td> \n",
       "</tr>\n",
       "<tr>\n",
       "      <td>R-squared:</td>            <td>0.160</td>            <td>Scale:</td>        <td>0.098278</td>\n",
       "</tr>\n",
       "</table>\n",
       "<table class=\"simpletable\">\n",
       "<tr>\n",
       "    <td></td>     <th>Coef.</th>  <th>Std.Err.</th>    <th>t</th>     <th>P>|t|</th> <th>[0.025</th>  <th>0.975]</th> \n",
       "</tr>\n",
       "<tr>\n",
       "  <th>const</th> <td>1.8395</td>   <td>0.0845</td>  <td>21.7657</td> <td>0.0000</td> <td>1.6684</td>  <td>2.0106</td> \n",
       "</tr>\n",
       "<tr>\n",
       "  <th>x1</th>    <td>-0.0894</td>  <td>0.0332</td>  <td>-2.6944</td> <td>0.0104</td> <td>-0.1566</td> <td>-0.0222</td>\n",
       "</tr>\n",
       "</table>\n",
       "<table class=\"simpletable\">\n",
       "<tr>\n",
       "     <td>Omnibus:</td>    <td>13.615</td>  <td>Durbin-Watson:</td>    <td>2.238</td>\n",
       "</tr>\n",
       "<tr>\n",
       "  <td>Prob(Omnibus):</td>  <td>0.001</td> <td>Jarque-Bera (JB):</td> <td>16.655</td>\n",
       "</tr>\n",
       "<tr>\n",
       "       <td>Skew:</td>      <td>1.044</td>     <td>Prob(JB):</td>      <td>0.000</td>\n",
       "</tr>\n",
       "<tr>\n",
       "     <td>Kurtosis:</td>    <td>5.374</td>  <td>Condition No.:</td>      <td>5</td>  \n",
       "</tr>\n",
       "</table>"
      ],
      "text/plain": [
       "<class 'statsmodels.iolib.summary2.Summary'>\n",
       "\"\"\"\n",
       "                 Results: Ordinary least squares\n",
       "=================================================================\n",
       "Model:              OLS              Adj. R-squared:     0.138   \n",
       "Dependent Variable: y                AIC:                22.6653 \n",
       "Date:               2021-12-30 00:07 BIC:                26.0430 \n",
       "No. Observations:   40               Log-Likelihood:     -9.3326 \n",
       "Df Model:           1                F-statistic:        7.260   \n",
       "Df Residuals:       38               Prob (F-statistic): 0.0104  \n",
       "R-squared:          0.160            Scale:              0.098278\n",
       "-------------------------------------------------------------------\n",
       "           Coef.    Std.Err.      t      P>|t|     [0.025    0.975]\n",
       "-------------------------------------------------------------------\n",
       "const      1.8395     0.0845   21.7657   0.0000    1.6684    2.0106\n",
       "x1        -0.0894     0.0332   -2.6944   0.0104   -0.1566   -0.0222\n",
       "-----------------------------------------------------------------\n",
       "Omnibus:              13.615       Durbin-Watson:          2.238 \n",
       "Prob(Omnibus):        0.001        Jarque-Bera (JB):       16.655\n",
       "Skew:                 1.044        Prob(JB):               0.000 \n",
       "Kurtosis:             5.374        Condition No.:          5     \n",
       "=================================================================\n",
       "\n",
       "\"\"\""
      ]
     },
     "execution_count": 89,
     "metadata": {},
     "output_type": "execute_result"
    }
   ],
   "source": [
    "s"
   ]
  },
  {
   "cell_type": "code",
   "execution_count": null,
   "id": "ca05c6a1-ea55-4c2c-bcbf-8040a67fdf46",
   "metadata": {},
   "outputs": [],
   "source": []
  }
 ],
 "metadata": {
  "kernelspec": {
   "display_name": "Python [conda env:q5]",
   "language": "python",
   "name": "conda-env-q5-py"
  },
  "language_info": {
   "codemirror_mode": {
    "name": "ipython",
    "version": 3
   },
   "file_extension": ".py",
   "mimetype": "text/x-python",
   "name": "python",
   "nbconvert_exporter": "python",
   "pygments_lexer": "ipython3",
   "version": "3.9.7"
  }
 },
 "nbformat": 4,
 "nbformat_minor": 5
}
