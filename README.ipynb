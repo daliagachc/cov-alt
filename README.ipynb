{
 "cells": [
  {
   "cell_type": "markdown",
   "id": "69e0598e-b584-4e99-8f22-1a8ead3a256b",
   "metadata": {},
   "source": [
    "# Razón de mortandad vs elevación\n",
    "Razón de mortandad ($R_m$) vs elevación para regiones administrativas (nivel 1) de ciertos países de Latinoamérica. \n",
    "La línea base de mortandad (denominador) se tomó utilizando el año 2019. \n",
    "El numerador son los datos de mortandad disponibles desde marzo 2020. \n",
    "El área de cada circulo es proporcional a la población de la región.  \n",
    "Las líneas discontinuas marcan el promedio ponderado para cada país (y para la región).\n",
    "La línea punteada marca la regresión lineal (no ponderada) de la razón de mortandad (y) vs la elevación (x). \n",
    "La elevación de cada región se obtuvo mediante el promedio ponderado (por población) de sus ciudades constituyentes."
   ]
  },
  {
   "cell_type": "code",
   "execution_count": null,
   "id": "653a43f9-58a4-492b-a7fe-72236e5745d6",
   "metadata": {},
   "outputs": [],
   "source": []
  }
 ],
 "metadata": {
  "kernelspec": {
   "display_name": "Python [conda env:q5]",
   "language": "python",
   "name": "conda-env-q5-py"
  },
  "language_info": {
   "codemirror_mode": {
    "name": "ipython",
    "version": 3
   },
   "file_extension": ".py",
   "mimetype": "text/x-python",
   "name": "python",
   "nbconvert_exporter": "python",
   "pygments_lexer": "ipython3",
   "version": "3.9.7"
  }
 },
 "nbformat": 4,
 "nbformat_minor": 5
}
